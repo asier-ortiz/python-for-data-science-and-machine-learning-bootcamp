{
 "cells": [
  {
   "cell_type": "code",
   "id": "initial_id",
   "metadata": {
    "collapsed": true,
    "jupyter": {
     "outputs_hidden": true
    },
    "ExecuteTime": {
     "end_time": "2025-01-13T10:05:17.866124Z",
     "start_time": "2025-01-13T10:05:17.863592Z"
    }
   },
   "source": [
    "import numpy as np"
   ],
   "outputs": [],
   "execution_count": 21
  },
  {
   "cell_type": "code",
   "id": "7d7f8b3ac7acafb7",
   "metadata": {
    "ExecuteTime": {
     "end_time": "2025-01-13T10:05:17.883835Z",
     "start_time": "2025-01-13T10:05:17.881417Z"
    }
   },
   "source": [
    "arr = np.arange(0, 11)"
   ],
   "outputs": [],
   "execution_count": 22
  },
  {
   "cell_type": "code",
   "id": "f5b8e11b0f5a7f20",
   "metadata": {
    "ExecuteTime": {
     "end_time": "2025-01-13T10:05:17.895855Z",
     "start_time": "2025-01-13T10:05:17.893318Z"
    }
   },
   "source": [
    "arr"
   ],
   "outputs": [
    {
     "data": {
      "text/plain": [
       "array([ 0,  1,  2,  3,  4,  5,  6,  7,  8,  9, 10])"
      ]
     },
     "execution_count": 23,
     "metadata": {},
     "output_type": "execute_result"
    }
   ],
   "execution_count": 23
  },
  {
   "cell_type": "code",
   "id": "ada29c346b33ef57",
   "metadata": {
    "ExecuteTime": {
     "end_time": "2025-01-13T10:05:17.914383Z",
     "start_time": "2025-01-13T10:05:17.911564Z"
    }
   },
   "source": [
    "arr[8]"
   ],
   "outputs": [
    {
     "data": {
      "text/plain": [
       "np.int64(8)"
      ]
     },
     "execution_count": 24,
     "metadata": {},
     "output_type": "execute_result"
    }
   ],
   "execution_count": 24
  },
  {
   "cell_type": "code",
   "id": "63f98d121e6f7927",
   "metadata": {
    "ExecuteTime": {
     "end_time": "2025-01-13T10:05:17.933594Z",
     "start_time": "2025-01-13T10:05:17.930590Z"
    }
   },
   "source": [
    "arr[1:5]"
   ],
   "outputs": [
    {
     "data": {
      "text/plain": [
       "array([1, 2, 3, 4])"
      ]
     },
     "execution_count": 25,
     "metadata": {},
     "output_type": "execute_result"
    }
   ],
   "execution_count": 25
  },
  {
   "metadata": {
    "ExecuteTime": {
     "end_time": "2025-01-13T10:05:17.949296Z",
     "start_time": "2025-01-13T10:05:17.946062Z"
    }
   },
   "cell_type": "code",
   "source": "arr[0:5]",
   "id": "dba561c2d3a5935d",
   "outputs": [
    {
     "data": {
      "text/plain": [
       "array([0, 1, 2, 3, 4])"
      ]
     },
     "execution_count": 26,
     "metadata": {},
     "output_type": "execute_result"
    }
   ],
   "execution_count": 26
  },
  {
   "metadata": {
    "ExecuteTime": {
     "end_time": "2025-01-13T10:05:17.969899Z",
     "start_time": "2025-01-13T10:05:17.966889Z"
    }
   },
   "cell_type": "code",
   "source": "arr[:6]",
   "id": "2d0b881dd753d77b",
   "outputs": [
    {
     "data": {
      "text/plain": [
       "array([0, 1, 2, 3, 4, 5])"
      ]
     },
     "execution_count": 27,
     "metadata": {},
     "output_type": "execute_result"
    }
   ],
   "execution_count": 27
  },
  {
   "metadata": {
    "ExecuteTime": {
     "end_time": "2025-01-13T10:05:18.050582Z",
     "start_time": "2025-01-13T10:05:18.047537Z"
    }
   },
   "cell_type": "code",
   "source": "arr[5:]",
   "id": "d7ca06ca3b3b8641",
   "outputs": [
    {
     "data": {
      "text/plain": [
       "array([ 5,  6,  7,  8,  9, 10])"
      ]
     },
     "execution_count": 28,
     "metadata": {},
     "output_type": "execute_result"
    }
   ],
   "execution_count": 28
  },
  {
   "metadata": {
    "ExecuteTime": {
     "end_time": "2025-01-13T10:05:18.119116Z",
     "start_time": "2025-01-13T10:05:18.117114Z"
    }
   },
   "cell_type": "code",
   "source": "arr[0:5] = 100",
   "id": "6478f334bb9faebf",
   "outputs": [],
   "execution_count": 29
  },
  {
   "metadata": {
    "ExecuteTime": {
     "end_time": "2025-01-13T10:05:18.139634Z",
     "start_time": "2025-01-13T10:05:18.136598Z"
    }
   },
   "cell_type": "code",
   "source": "arr",
   "id": "5ba2832c56f4979a",
   "outputs": [
    {
     "data": {
      "text/plain": [
       "array([100, 100, 100, 100, 100,   5,   6,   7,   8,   9,  10])"
      ]
     },
     "execution_count": 30,
     "metadata": {},
     "output_type": "execute_result"
    }
   ],
   "execution_count": 30
  },
  {
   "metadata": {
    "ExecuteTime": {
     "end_time": "2025-01-13T10:05:18.194656Z",
     "start_time": "2025-01-13T10:05:18.192288Z"
    }
   },
   "cell_type": "code",
   "source": "arr = np.arange(0, 11)",
   "id": "907b926710fb93f1",
   "outputs": [],
   "execution_count": 31
  },
  {
   "metadata": {
    "ExecuteTime": {
     "end_time": "2025-01-13T10:05:18.208748Z",
     "start_time": "2025-01-13T10:05:18.205907Z"
    }
   },
   "cell_type": "code",
   "source": "arr",
   "id": "dfb315b0ecbf812b",
   "outputs": [
    {
     "data": {
      "text/plain": [
       "array([ 0,  1,  2,  3,  4,  5,  6,  7,  8,  9, 10])"
      ]
     },
     "execution_count": 32,
     "metadata": {},
     "output_type": "execute_result"
    }
   ],
   "execution_count": 32
  },
  {
   "metadata": {
    "ExecuteTime": {
     "end_time": "2025-01-13T10:05:18.249299Z",
     "start_time": "2025-01-13T10:05:18.247112Z"
    }
   },
   "cell_type": "code",
   "source": "slice_of_arr = arr[0:6]",
   "id": "c266972e2eeb5d",
   "outputs": [],
   "execution_count": 33
  },
  {
   "metadata": {
    "ExecuteTime": {
     "end_time": "2025-01-13T10:05:18.257756Z",
     "start_time": "2025-01-13T10:05:18.255064Z"
    }
   },
   "cell_type": "code",
   "source": "slice_of_arr",
   "id": "76babd5e70e39a5b",
   "outputs": [
    {
     "data": {
      "text/plain": [
       "array([0, 1, 2, 3, 4, 5])"
      ]
     },
     "execution_count": 34,
     "metadata": {},
     "output_type": "execute_result"
    }
   ],
   "execution_count": 34
  },
  {
   "metadata": {
    "ExecuteTime": {
     "end_time": "2025-01-13T10:05:59.331706Z",
     "start_time": "2025-01-13T10:05:59.329656Z"
    }
   },
   "cell_type": "code",
   "source": "slice_of_arr[:] = 99",
   "id": "89576d2b6967016a",
   "outputs": [],
   "execution_count": 37
  },
  {
   "metadata": {
    "ExecuteTime": {
     "end_time": "2025-01-13T10:06:06.698047Z",
     "start_time": "2025-01-13T10:06:06.694986Z"
    }
   },
   "cell_type": "code",
   "source": "slice_of_arr",
   "id": "2ee87583224983d7",
   "outputs": [
    {
     "data": {
      "text/plain": [
       "array([99, 99, 99, 99, 99, 99])"
      ]
     },
     "execution_count": 38,
     "metadata": {},
     "output_type": "execute_result"
    }
   ],
   "execution_count": 38
  },
  {
   "metadata": {
    "ExecuteTime": {
     "end_time": "2025-01-13T10:06:22.046352Z",
     "start_time": "2025-01-13T10:06:22.043003Z"
    }
   },
   "cell_type": "code",
   "source": "arr",
   "id": "4f94f2d39f512505",
   "outputs": [
    {
     "data": {
      "text/plain": [
       "array([99, 99, 99, 99, 99, 99,  6,  7,  8,  9, 10])"
      ]
     },
     "execution_count": 39,
     "metadata": {},
     "output_type": "execute_result"
    }
   ],
   "execution_count": 39
  },
  {
   "metadata": {
    "ExecuteTime": {
     "end_time": "2025-01-13T10:07:18.587224Z",
     "start_time": "2025-01-13T10:07:18.584909Z"
    }
   },
   "cell_type": "code",
   "source": "arr_copy = arr.copy()",
   "id": "fb7adf6b60989b92",
   "outputs": [],
   "execution_count": 40
  },
  {
   "metadata": {
    "ExecuteTime": {
     "end_time": "2025-01-13T10:07:19.408824Z",
     "start_time": "2025-01-13T10:07:19.405459Z"
    }
   },
   "cell_type": "code",
   "source": "arr",
   "id": "b24289e7c746e274",
   "outputs": [
    {
     "data": {
      "text/plain": [
       "array([99, 99, 99, 99, 99, 99,  6,  7,  8,  9, 10])"
      ]
     },
     "execution_count": 41,
     "metadata": {},
     "output_type": "execute_result"
    }
   ],
   "execution_count": 41
  },
  {
   "metadata": {
    "ExecuteTime": {
     "end_time": "2025-01-13T10:07:35.858661Z",
     "start_time": "2025-01-13T10:07:35.855680Z"
    }
   },
   "cell_type": "code",
   "source": "arr_copy[:] = 100",
   "id": "bc2d1c54f924fcdb",
   "outputs": [],
   "execution_count": 44
  },
  {
   "metadata": {
    "ExecuteTime": {
     "end_time": "2025-01-13T10:07:48.568620Z",
     "start_time": "2025-01-13T10:07:48.566198Z"
    }
   },
   "cell_type": "code",
   "source": "arr_copy",
   "id": "52cc52157f5dc6dd",
   "outputs": [
    {
     "data": {
      "text/plain": [
       "array([100, 100, 100, 100, 100, 100, 100, 100, 100, 100, 100])"
      ]
     },
     "execution_count": 45,
     "metadata": {},
     "output_type": "execute_result"
    }
   ],
   "execution_count": 45
  },
  {
   "metadata": {
    "ExecuteTime": {
     "end_time": "2025-01-13T10:07:50.107113Z",
     "start_time": "2025-01-13T10:07:50.103999Z"
    }
   },
   "cell_type": "code",
   "source": "arr",
   "id": "acede26d15a59b87",
   "outputs": [
    {
     "data": {
      "text/plain": [
       "array([99, 99, 99, 99, 99, 99,  6,  7,  8,  9, 10])"
      ]
     },
     "execution_count": 46,
     "metadata": {},
     "output_type": "execute_result"
    }
   ],
   "execution_count": 46
  },
  {
   "metadata": {
    "ExecuteTime": {
     "end_time": "2025-01-13T10:09:36.276979Z",
     "start_time": "2025-01-13T10:09:36.274586Z"
    }
   },
   "cell_type": "code",
   "source": [
    "arr_2d = np.array([\n",
    "    [5, 10, 15],\n",
    "    [20, 25, 30],\n",
    "    [35, 40, 45]\n",
    "])"
   ],
   "id": "1f36a628a748b6a",
   "outputs": [],
   "execution_count": 47
  },
  {
   "metadata": {
    "ExecuteTime": {
     "end_time": "2025-01-13T10:09:53.129867Z",
     "start_time": "2025-01-13T10:09:53.126759Z"
    }
   },
   "cell_type": "code",
   "source": "arr_2d",
   "id": "b5c2c62bb59c7c3e",
   "outputs": [
    {
     "data": {
      "text/plain": [
       "array([[ 5, 10, 15],\n",
       "       [20, 25, 30],\n",
       "       [35, 40, 45]])"
      ]
     },
     "execution_count": 48,
     "metadata": {},
     "output_type": "execute_result"
    }
   ],
   "execution_count": 48
  },
  {
   "metadata": {
    "ExecuteTime": {
     "end_time": "2025-01-13T10:13:34.725266Z",
     "start_time": "2025-01-13T10:13:34.722580Z"
    }
   },
   "cell_type": "code",
   "source": "arr_2d[1,2]",
   "id": "2e4d5334c886003e",
   "outputs": [
    {
     "data": {
      "text/plain": [
       "np.int64(30)"
      ]
     },
     "execution_count": 58,
     "metadata": {},
     "output_type": "execute_result"
    }
   ],
   "execution_count": 58
  },
  {
   "metadata": {
    "ExecuteTime": {
     "end_time": "2025-01-13T10:14:01.309153Z",
     "start_time": "2025-01-13T10:14:01.306394Z"
    }
   },
   "cell_type": "code",
   "source": "arr_2d[1][2]",
   "id": "8b64020d385db5e9",
   "outputs": [
    {
     "data": {
      "text/plain": [
       "np.int64(30)"
      ]
     },
     "execution_count": 59,
     "metadata": {},
     "output_type": "execute_result"
    }
   ],
   "execution_count": 59
  },
  {
   "metadata": {
    "ExecuteTime": {
     "end_time": "2025-01-13T10:15:05.234664Z",
     "start_time": "2025-01-13T10:15:05.231202Z"
    }
   },
   "cell_type": "code",
   "source": "arr_2d[:2,1:]",
   "id": "fd51507dbbf3e337",
   "outputs": [
    {
     "data": {
      "text/plain": [
       "array([[10, 15],\n",
       "       [25, 30]])"
      ]
     },
     "execution_count": 60,
     "metadata": {},
     "output_type": "execute_result"
    }
   ],
   "execution_count": 60
  },
  {
   "metadata": {
    "ExecuteTime": {
     "end_time": "2025-01-13T10:16:06.219430Z",
     "start_time": "2025-01-13T10:16:06.216363Z"
    }
   },
   "cell_type": "code",
   "source": "arr_2d[:2]",
   "id": "ab295a93111a2076",
   "outputs": [
    {
     "data": {
      "text/plain": [
       "array([[ 5, 10, 15],\n",
       "       [20, 25, 30]])"
      ]
     },
     "execution_count": 61,
     "metadata": {},
     "output_type": "execute_result"
    }
   ],
   "execution_count": 61
  },
  {
   "metadata": {
    "ExecuteTime": {
     "end_time": "2025-01-13T10:18:08.246360Z",
     "start_time": "2025-01-13T10:18:08.244303Z"
    }
   },
   "cell_type": "code",
   "source": "arr = np.arange(1, 11)",
   "id": "c6b0ddf45b37183c",
   "outputs": [],
   "execution_count": 63
  },
  {
   "metadata": {
    "ExecuteTime": {
     "end_time": "2025-01-13T10:18:09.091168Z",
     "start_time": "2025-01-13T10:18:09.088124Z"
    }
   },
   "cell_type": "code",
   "source": "arr",
   "id": "c63a48d8da36dacd",
   "outputs": [
    {
     "data": {
      "text/plain": [
       "array([ 1,  2,  3,  4,  5,  6,  7,  8,  9, 10])"
      ]
     },
     "execution_count": 64,
     "metadata": {},
     "output_type": "execute_result"
    }
   ],
   "execution_count": 64
  },
  {
   "metadata": {
    "ExecuteTime": {
     "end_time": "2025-01-13T10:19:12.642839Z",
     "start_time": "2025-01-13T10:19:12.640555Z"
    }
   },
   "cell_type": "code",
   "source": "bool_arr = arr > 5",
   "id": "4ef3a80f1d6aeb44",
   "outputs": [],
   "execution_count": 67
  },
  {
   "metadata": {
    "ExecuteTime": {
     "end_time": "2025-01-13T10:19:14.476200Z",
     "start_time": "2025-01-13T10:19:14.473036Z"
    }
   },
   "cell_type": "code",
   "source": "bool_arr",
   "id": "3c8d2cd97e70e654",
   "outputs": [
    {
     "data": {
      "text/plain": [
       "array([False, False, False, False, False,  True,  True,  True,  True,\n",
       "        True])"
      ]
     },
     "execution_count": 68,
     "metadata": {},
     "output_type": "execute_result"
    }
   ],
   "execution_count": 68
  },
  {
   "metadata": {
    "ExecuteTime": {
     "end_time": "2025-01-13T10:19:28.910001Z",
     "start_time": "2025-01-13T10:19:28.906832Z"
    }
   },
   "cell_type": "code",
   "source": "arr[bool_arr]",
   "id": "e9e0785b0e2bba95",
   "outputs": [
    {
     "data": {
      "text/plain": [
       "array([ 6,  7,  8,  9, 10])"
      ]
     },
     "execution_count": 69,
     "metadata": {},
     "output_type": "execute_result"
    }
   ],
   "execution_count": 69
  },
  {
   "metadata": {
    "ExecuteTime": {
     "end_time": "2025-01-13T10:20:08.990082Z",
     "start_time": "2025-01-13T10:20:08.986753Z"
    }
   },
   "cell_type": "code",
   "source": "arr[arr > 5]",
   "id": "41006cbdda2077b0",
   "outputs": [
    {
     "data": {
      "text/plain": [
       "array([ 6,  7,  8,  9, 10])"
      ]
     },
     "execution_count": 70,
     "metadata": {},
     "output_type": "execute_result"
    }
   ],
   "execution_count": 70
  },
  {
   "metadata": {
    "ExecuteTime": {
     "end_time": "2025-01-13T10:20:31.456779Z",
     "start_time": "2025-01-13T10:20:31.453950Z"
    }
   },
   "cell_type": "code",
   "source": "arr[arr < 3]",
   "id": "8a5632782e3b1739",
   "outputs": [
    {
     "data": {
      "text/plain": [
       "array([1, 2])"
      ]
     },
     "execution_count": 71,
     "metadata": {},
     "output_type": "execute_result"
    }
   ],
   "execution_count": 71
  },
  {
   "metadata": {
    "ExecuteTime": {
     "end_time": "2025-01-13T10:21:41.993097Z",
     "start_time": "2025-01-13T10:21:41.990971Z"
    }
   },
   "cell_type": "code",
   "source": "arr_2d = np.arange(50).reshape((5, 10))",
   "id": "bf0a3df2b6d11c6e",
   "outputs": [],
   "execution_count": 72
  },
  {
   "metadata": {
    "ExecuteTime": {
     "end_time": "2025-01-13T10:23:52.523292Z",
     "start_time": "2025-01-13T10:23:52.520490Z"
    }
   },
   "cell_type": "code",
   "source": "arr_2d[1:3, 3:5]",
   "id": "1edf0cbb47060307",
   "outputs": [
    {
     "data": {
      "text/plain": [
       "array([[13, 14],\n",
       "       [23, 24]])"
      ]
     },
     "execution_count": 76,
     "metadata": {},
     "output_type": "execute_result"
    }
   ],
   "execution_count": 76
  },
  {
   "metadata": {
    "ExecuteTime": {
     "end_time": "2025-01-13T10:23:12.283926Z",
     "start_time": "2025-01-13T10:23:12.281197Z"
    }
   },
   "cell_type": "code",
   "source": "arr_2d[1:3]",
   "id": "91318f2bef26e626",
   "outputs": [
    {
     "data": {
      "text/plain": [
       "array([[10, 11, 12, 13, 14, 15, 16, 17, 18, 19],\n",
       "       [20, 21, 22, 23, 24, 25, 26, 27, 28, 29]])"
      ]
     },
     "execution_count": 74,
     "metadata": {},
     "output_type": "execute_result"
    }
   ],
   "execution_count": 74
  },
  {
   "metadata": {},
   "cell_type": "code",
   "outputs": [],
   "execution_count": null,
   "source": "",
   "id": "74472390e99f5a2b"
  },
  {
   "metadata": {},
   "cell_type": "code",
   "outputs": [],
   "execution_count": null,
   "source": "",
   "id": "4ab9c039529bab78"
  },
  {
   "metadata": {},
   "cell_type": "code",
   "outputs": [],
   "execution_count": null,
   "source": "",
   "id": "d26900e22665a5da"
  },
  {
   "metadata": {},
   "cell_type": "code",
   "outputs": [],
   "execution_count": null,
   "source": "",
   "id": "757a3500cd852564"
  },
  {
   "metadata": {},
   "cell_type": "code",
   "outputs": [],
   "execution_count": null,
   "source": "",
   "id": "ab78771384a3958"
  },
  {
   "metadata": {},
   "cell_type": "code",
   "outputs": [],
   "execution_count": null,
   "source": "",
   "id": "5e86403040c04426"
  },
  {
   "metadata": {
    "ExecuteTime": {
     "end_time": "2025-01-13T10:05:18.328656Z",
     "start_time": "2025-01-13T10:05:18.326900Z"
    }
   },
   "cell_type": "code",
   "source": "",
   "id": "30677745970ea72a",
   "outputs": [],
   "execution_count": null
  }
 ],
 "metadata": {
  "kernelspec": {
   "display_name": "Python 3 (ipykernel)",
   "language": "python",
   "name": "python3"
  },
  "language_info": {
   "codemirror_mode": {
    "name": "ipython",
    "version": 3
   },
   "file_extension": ".py",
   "mimetype": "text/x-python",
   "name": "python",
   "nbconvert_exporter": "python",
   "pygments_lexer": "ipython3",
   "version": "3.9.6"
  }
 },
 "nbformat": 4,
 "nbformat_minor": 5
}
