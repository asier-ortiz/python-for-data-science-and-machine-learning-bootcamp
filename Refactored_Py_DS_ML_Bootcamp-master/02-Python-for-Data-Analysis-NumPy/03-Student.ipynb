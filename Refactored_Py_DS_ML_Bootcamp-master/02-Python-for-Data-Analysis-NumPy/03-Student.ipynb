{
 "cells": [
  {
   "cell_type": "code",
   "id": "initial_id",
   "metadata": {
    "collapsed": true,
    "ExecuteTime": {
     "end_time": "2025-01-21T08:26:44.439255Z",
     "start_time": "2025-01-21T08:26:44.437340Z"
    }
   },
   "source": "import numpy as np",
   "outputs": [],
   "execution_count": 5
  },
  {
   "metadata": {
    "ExecuteTime": {
     "end_time": "2025-01-21T08:26:44.461097Z",
     "start_time": "2025-01-21T08:26:44.458793Z"
    }
   },
   "cell_type": "code",
   "source": "arr = np.arange(0, 11)",
   "id": "9652ae983ec4b289",
   "outputs": [],
   "execution_count": 6
  },
  {
   "metadata": {
    "ExecuteTime": {
     "end_time": "2025-01-21T08:26:44.474474Z",
     "start_time": "2025-01-21T08:26:44.471499Z"
    }
   },
   "cell_type": "code",
   "source": "arr",
   "id": "b3d7cc34229b0157",
   "outputs": [
    {
     "data": {
      "text/plain": [
       "array([ 0,  1,  2,  3,  4,  5,  6,  7,  8,  9, 10])"
      ]
     },
     "execution_count": 7,
     "metadata": {},
     "output_type": "execute_result"
    }
   ],
   "execution_count": 7
  },
  {
   "metadata": {
    "ExecuteTime": {
     "end_time": "2025-01-21T08:26:44.554274Z",
     "start_time": "2025-01-21T08:26:44.551850Z"
    }
   },
   "cell_type": "code",
   "source": "arr + arr",
   "id": "3a21527a87dee965",
   "outputs": [
    {
     "data": {
      "text/plain": [
       "array([ 0,  2,  4,  6,  8, 10, 12, 14, 16, 18, 20])"
      ]
     },
     "execution_count": 8,
     "metadata": {},
     "output_type": "execute_result"
    }
   ],
   "execution_count": 8
  },
  {
   "metadata": {
    "ExecuteTime": {
     "end_time": "2025-01-21T08:26:44.634530Z",
     "start_time": "2025-01-21T08:26:44.631347Z"
    }
   },
   "cell_type": "code",
   "source": "arr - arr",
   "id": "d9aef22a43eed6d8",
   "outputs": [
    {
     "data": {
      "text/plain": [
       "array([0, 0, 0, 0, 0, 0, 0, 0, 0, 0, 0])"
      ]
     },
     "execution_count": 9,
     "metadata": {},
     "output_type": "execute_result"
    }
   ],
   "execution_count": 9
  },
  {
   "metadata": {
    "ExecuteTime": {
     "end_time": "2025-01-21T08:26:44.696467Z",
     "start_time": "2025-01-21T08:26:44.693301Z"
    }
   },
   "cell_type": "code",
   "source": "arr * arr",
   "id": "e886e1a4f48a27af",
   "outputs": [
    {
     "data": {
      "text/plain": [
       "array([  0,   1,   4,   9,  16,  25,  36,  49,  64,  81, 100])"
      ]
     },
     "execution_count": 10,
     "metadata": {},
     "output_type": "execute_result"
    }
   ],
   "execution_count": 10
  },
  {
   "metadata": {
    "ExecuteTime": {
     "end_time": "2025-01-21T08:27:19.076992Z",
     "start_time": "2025-01-21T08:27:19.073598Z"
    }
   },
   "cell_type": "code",
   "source": "arr + 100",
   "id": "f03b58a4e602b6ea",
   "outputs": [
    {
     "data": {
      "text/plain": [
       "array([100, 101, 102, 103, 104, 105, 106, 107, 108, 109, 110])"
      ]
     },
     "execution_count": 11,
     "metadata": {},
     "output_type": "execute_result"
    }
   ],
   "execution_count": 11
  },
  {
   "metadata": {
    "ExecuteTime": {
     "end_time": "2025-01-21T08:28:16.356097Z",
     "start_time": "2025-01-21T08:28:16.352329Z"
    }
   },
   "cell_type": "code",
   "source": "arr / arr",
   "id": "2f8a93993cf0036f",
   "outputs": [
    {
     "name": "stderr",
     "output_type": "stream",
     "text": [
      "/var/folders/bs/fklc9n_d4fb4kc_sbd_l4p900000gn/T/ipykernel_1687/2811617162.py:1: RuntimeWarning: invalid value encountered in divide\n",
      "  arr / arr\n"
     ]
    },
    {
     "data": {
      "text/plain": [
       "array([nan,  1.,  1.,  1.,  1.,  1.,  1.,  1.,  1.,  1.,  1.])"
      ]
     },
     "execution_count": 12,
     "metadata": {},
     "output_type": "execute_result"
    }
   ],
   "execution_count": 12
  },
  {
   "metadata": {
    "ExecuteTime": {
     "end_time": "2025-01-21T08:30:04.601935Z",
     "start_time": "2025-01-21T08:30:04.599037Z"
    }
   },
   "cell_type": "code",
   "source": "1 / arr",
   "id": "ffed965f9db34156",
   "outputs": [
    {
     "name": "stderr",
     "output_type": "stream",
     "text": [
      "/var/folders/bs/fklc9n_d4fb4kc_sbd_l4p900000gn/T/ipykernel_1687/2495778407.py:1: RuntimeWarning: divide by zero encountered in divide\n",
      "  1 / arr\n"
     ]
    },
    {
     "data": {
      "text/plain": [
       "array([       inf, 1.        , 0.5       , 0.33333333, 0.25      ,\n",
       "       0.2       , 0.16666667, 0.14285714, 0.125     , 0.11111111,\n",
       "       0.1       ])"
      ]
     },
     "execution_count": 15,
     "metadata": {},
     "output_type": "execute_result"
    }
   ],
   "execution_count": 15
  },
  {
   "metadata": {
    "ExecuteTime": {
     "end_time": "2025-01-21T08:30:14.337383Z",
     "start_time": "2025-01-21T08:30:14.334689Z"
    }
   },
   "cell_type": "code",
   "source": "arr ** 2",
   "id": "723d76a46042a311",
   "outputs": [
    {
     "data": {
      "text/plain": [
       "array([  0,   1,   4,   9,  16,  25,  36,  49,  64,  81, 100])"
      ]
     },
     "execution_count": 16,
     "metadata": {},
     "output_type": "execute_result"
    }
   ],
   "execution_count": 16
  },
  {
   "metadata": {
    "ExecuteTime": {
     "end_time": "2025-01-21T08:30:42.458515Z",
     "start_time": "2025-01-21T08:30:42.455630Z"
    }
   },
   "cell_type": "code",
   "source": "np.sqrt(arr)",
   "id": "d920a667d326df4a",
   "outputs": [
    {
     "data": {
      "text/plain": [
       "array([0.        , 1.        , 1.41421356, 1.73205081, 2.        ,\n",
       "       2.23606798, 2.44948974, 2.64575131, 2.82842712, 3.        ,\n",
       "       3.16227766])"
      ]
     },
     "execution_count": 17,
     "metadata": {},
     "output_type": "execute_result"
    }
   ],
   "execution_count": 17
  },
  {
   "metadata": {
    "ExecuteTime": {
     "end_time": "2025-01-21T08:30:56.051943Z",
     "start_time": "2025-01-21T08:30:56.049116Z"
    }
   },
   "cell_type": "code",
   "source": "np.exp(arr)",
   "id": "df77617fefb42ba8",
   "outputs": [
    {
     "data": {
      "text/plain": [
       "array([1.00000000e+00, 2.71828183e+00, 7.38905610e+00, 2.00855369e+01,\n",
       "       5.45981500e+01, 1.48413159e+02, 4.03428793e+02, 1.09663316e+03,\n",
       "       2.98095799e+03, 8.10308393e+03, 2.20264658e+04])"
      ]
     },
     "execution_count": 18,
     "metadata": {},
     "output_type": "execute_result"
    }
   ],
   "execution_count": 18
  },
  {
   "metadata": {
    "ExecuteTime": {
     "end_time": "2025-01-21T08:31:09.422244Z",
     "start_time": "2025-01-21T08:31:09.419008Z"
    }
   },
   "cell_type": "code",
   "source": "np.max(arr)",
   "id": "3404a42c262ad7de",
   "outputs": [
    {
     "data": {
      "text/plain": [
       "np.int64(10)"
      ]
     },
     "execution_count": 19,
     "metadata": {},
     "output_type": "execute_result"
    }
   ],
   "execution_count": 19
  },
  {
   "metadata": {
    "ExecuteTime": {
     "end_time": "2025-01-21T08:31:19.544398Z",
     "start_time": "2025-01-21T08:31:19.540975Z"
    }
   },
   "cell_type": "code",
   "source": "np.sin(arr)",
   "id": "cdc1e56c5e60c374",
   "outputs": [
    {
     "data": {
      "text/plain": [
       "array([ 0.        ,  0.84147098,  0.90929743,  0.14112001, -0.7568025 ,\n",
       "       -0.95892427, -0.2794155 ,  0.6569866 ,  0.98935825,  0.41211849,\n",
       "       -0.54402111])"
      ]
     },
     "execution_count": 20,
     "metadata": {},
     "output_type": "execute_result"
    }
   ],
   "execution_count": 20
  },
  {
   "metadata": {
    "ExecuteTime": {
     "end_time": "2025-01-21T08:31:27.789282Z",
     "start_time": "2025-01-21T08:31:27.786398Z"
    }
   },
   "cell_type": "code",
   "source": "np.log(arr)",
   "id": "d0d9372b81a3a063",
   "outputs": [
    {
     "name": "stderr",
     "output_type": "stream",
     "text": [
      "/var/folders/bs/fklc9n_d4fb4kc_sbd_l4p900000gn/T/ipykernel_1687/2931416741.py:1: RuntimeWarning: divide by zero encountered in log\n",
      "  np.log(arr)\n"
     ]
    },
    {
     "data": {
      "text/plain": [
       "array([      -inf, 0.        , 0.69314718, 1.09861229, 1.38629436,\n",
       "       1.60943791, 1.79175947, 1.94591015, 2.07944154, 2.19722458,\n",
       "       2.30258509])"
      ]
     },
     "execution_count": 21,
     "metadata": {},
     "output_type": "execute_result"
    }
   ],
   "execution_count": 21
  },
  {
   "metadata": {
    "ExecuteTime": {
     "end_time": "2025-01-21T08:26:44.914719Z",
     "start_time": "2025-01-21T08:26:44.913116Z"
    }
   },
   "cell_type": "code",
   "source": "",
   "id": "ad4e612d341b875b",
   "outputs": [],
   "execution_count": null
  },
  {
   "metadata": {
    "ExecuteTime": {
     "end_time": "2025-01-21T08:26:44.931720Z",
     "start_time": "2025-01-21T08:26:44.930253Z"
    }
   },
   "cell_type": "code",
   "source": "",
   "id": "6e0847d5aab7ae04",
   "outputs": [],
   "execution_count": null
  },
  {
   "metadata": {
    "ExecuteTime": {
     "end_time": "2025-01-21T08:26:44.948074Z",
     "start_time": "2025-01-21T08:26:44.946424Z"
    }
   },
   "cell_type": "code",
   "source": "",
   "id": "63e91be5fd4912d7",
   "outputs": [],
   "execution_count": null
  },
  {
   "metadata": {
    "ExecuteTime": {
     "end_time": "2025-01-21T08:26:44.956895Z",
     "start_time": "2025-01-21T08:26:44.955255Z"
    }
   },
   "cell_type": "code",
   "source": "",
   "id": "4f98253e0eb69f9b",
   "outputs": [],
   "execution_count": null
  },
  {
   "metadata": {
    "ExecuteTime": {
     "end_time": "2025-01-21T08:26:44.975550Z",
     "start_time": "2025-01-21T08:26:44.973887Z"
    }
   },
   "cell_type": "code",
   "source": "",
   "id": "6730764d589fb981",
   "outputs": [],
   "execution_count": null
  },
  {
   "metadata": {
    "ExecuteTime": {
     "end_time": "2025-01-21T08:26:44.993527Z",
     "start_time": "2025-01-21T08:26:44.991641Z"
    }
   },
   "cell_type": "code",
   "source": "",
   "id": "a0de2b1ce56ec675",
   "outputs": [],
   "execution_count": null
  },
  {
   "metadata": {
    "ExecuteTime": {
     "end_time": "2025-01-21T08:26:45.012871Z",
     "start_time": "2025-01-21T08:26:45.011281Z"
    }
   },
   "cell_type": "code",
   "source": "",
   "id": "eca2d3deea2809ce",
   "outputs": [],
   "execution_count": null
  },
  {
   "metadata": {
    "ExecuteTime": {
     "end_time": "2025-01-21T08:26:45.031002Z",
     "start_time": "2025-01-21T08:26:45.029446Z"
    }
   },
   "cell_type": "code",
   "source": "",
   "id": "7f16f3e0a78cdba2",
   "outputs": [],
   "execution_count": null
  },
  {
   "metadata": {
    "ExecuteTime": {
     "end_time": "2025-01-21T08:26:45.041892Z",
     "start_time": "2025-01-21T08:26:45.040152Z"
    }
   },
   "cell_type": "code",
   "source": "",
   "id": "3a8e030048caeebb",
   "outputs": [],
   "execution_count": null
  },
  {
   "metadata": {
    "ExecuteTime": {
     "end_time": "2025-01-21T08:26:45.060554Z",
     "start_time": "2025-01-21T08:26:45.059062Z"
    }
   },
   "cell_type": "code",
   "source": "",
   "id": "3e0ea037252b97ff",
   "outputs": [],
   "execution_count": null
  },
  {
   "metadata": {
    "ExecuteTime": {
     "end_time": "2025-01-21T08:26:45.073763Z",
     "start_time": "2025-01-21T08:26:45.071924Z"
    }
   },
   "cell_type": "code",
   "source": "",
   "id": "3778e9556f1a417e",
   "outputs": [],
   "execution_count": null
  },
  {
   "metadata": {
    "ExecuteTime": {
     "end_time": "2025-01-21T08:26:45.091755Z",
     "start_time": "2025-01-21T08:26:45.090382Z"
    }
   },
   "cell_type": "code",
   "source": "",
   "id": "6cb3683508071776",
   "outputs": [],
   "execution_count": null
  },
  {
   "metadata": {
    "ExecuteTime": {
     "end_time": "2025-01-21T08:26:45.099265Z",
     "start_time": "2025-01-21T08:26:45.097777Z"
    }
   },
   "cell_type": "code",
   "source": "",
   "id": "58c6b10777699982",
   "outputs": [],
   "execution_count": null
  },
  {
   "metadata": {
    "ExecuteTime": {
     "end_time": "2025-01-21T08:26:45.107293Z",
     "start_time": "2025-01-21T08:26:45.105947Z"
    }
   },
   "cell_type": "code",
   "source": "",
   "id": "7f73204b53933939",
   "outputs": [],
   "execution_count": null
  },
  {
   "metadata": {
    "ExecuteTime": {
     "end_time": "2025-01-21T08:26:45.115645Z",
     "start_time": "2025-01-21T08:26:45.114268Z"
    }
   },
   "cell_type": "code",
   "source": "",
   "id": "e58bc244e623e747",
   "outputs": [],
   "execution_count": null
  },
  {
   "metadata": {
    "ExecuteTime": {
     "end_time": "2025-01-21T08:26:45.124971Z",
     "start_time": "2025-01-21T08:26:45.123643Z"
    }
   },
   "cell_type": "code",
   "source": "",
   "id": "519f78bf4b5208a1",
   "outputs": [],
   "execution_count": null
  },
  {
   "metadata": {
    "ExecuteTime": {
     "end_time": "2025-01-21T08:26:45.136305Z",
     "start_time": "2025-01-21T08:26:45.134633Z"
    }
   },
   "cell_type": "code",
   "source": "",
   "id": "8c800fb50878bfcc",
   "outputs": [],
   "execution_count": null
  },
  {
   "metadata": {
    "ExecuteTime": {
     "end_time": "2025-01-21T08:26:45.151844Z",
     "start_time": "2025-01-21T08:26:45.150106Z"
    }
   },
   "cell_type": "code",
   "source": "",
   "id": "37dd32829c953536",
   "outputs": [],
   "execution_count": null
  },
  {
   "metadata": {
    "ExecuteTime": {
     "end_time": "2025-01-21T08:26:45.164329Z",
     "start_time": "2025-01-21T08:26:45.162940Z"
    }
   },
   "cell_type": "code",
   "source": "",
   "id": "1fa139287e6c19d7",
   "outputs": [],
   "execution_count": null
  },
  {
   "metadata": {
    "ExecuteTime": {
     "end_time": "2025-01-21T08:26:45.176793Z",
     "start_time": "2025-01-21T08:26:45.175262Z"
    }
   },
   "cell_type": "code",
   "source": "",
   "id": "962f999dcc655668",
   "outputs": [],
   "execution_count": null
  },
  {
   "metadata": {
    "ExecuteTime": {
     "end_time": "2025-01-21T08:26:45.189712Z",
     "start_time": "2025-01-21T08:26:45.188193Z"
    }
   },
   "cell_type": "code",
   "source": "",
   "id": "dd6f842070604772",
   "outputs": [],
   "execution_count": null
  },
  {
   "metadata": {
    "ExecuteTime": {
     "end_time": "2025-01-21T08:26:45.202628Z",
     "start_time": "2025-01-21T08:26:45.201098Z"
    }
   },
   "cell_type": "code",
   "source": "",
   "id": "41d46d7f88b62707",
   "outputs": [],
   "execution_count": null
  },
  {
   "metadata": {
    "ExecuteTime": {
     "end_time": "2025-01-21T08:26:45.215143Z",
     "start_time": "2025-01-21T08:26:45.213560Z"
    }
   },
   "cell_type": "code",
   "source": "",
   "id": "86758a5420bfed99",
   "outputs": [],
   "execution_count": null
  },
  {
   "metadata": {
    "ExecuteTime": {
     "end_time": "2025-01-21T08:26:45.227727Z",
     "start_time": "2025-01-21T08:26:45.226071Z"
    }
   },
   "cell_type": "code",
   "source": "",
   "id": "9f4bc87fe4527c6e",
   "outputs": [],
   "execution_count": null
  },
  {
   "metadata": {
    "ExecuteTime": {
     "end_time": "2025-01-21T08:26:45.241383Z",
     "start_time": "2025-01-21T08:26:45.239853Z"
    }
   },
   "cell_type": "code",
   "source": "",
   "id": "1f3c1693f0cc7df5",
   "outputs": [],
   "execution_count": null
  },
  {
   "metadata": {
    "ExecuteTime": {
     "end_time": "2025-01-21T08:26:45.253486Z",
     "start_time": "2025-01-21T08:26:45.252165Z"
    }
   },
   "cell_type": "code",
   "source": "",
   "id": "89e33e017fa35c02",
   "outputs": [],
   "execution_count": null
  },
  {
   "metadata": {
    "ExecuteTime": {
     "end_time": "2025-01-21T08:26:45.267534Z",
     "start_time": "2025-01-21T08:26:45.265910Z"
    }
   },
   "cell_type": "code",
   "source": "",
   "id": "97281df541ea94b3",
   "outputs": [],
   "execution_count": null
  }
 ],
 "metadata": {
  "kernelspec": {
   "display_name": "Python 3",
   "language": "python",
   "name": "python3"
  },
  "language_info": {
   "codemirror_mode": {
    "name": "ipython",
    "version": 2
   },
   "file_extension": ".py",
   "mimetype": "text/x-python",
   "name": "python",
   "nbconvert_exporter": "python",
   "pygments_lexer": "ipython2",
   "version": "2.7.6"
  }
 },
 "nbformat": 4,
 "nbformat_minor": 5
}
