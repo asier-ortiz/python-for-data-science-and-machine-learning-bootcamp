{
 "cells": [
  {
   "cell_type": "code",
   "execution_count": 2,
   "id": "initial_id",
   "metadata": {
    "ExecuteTime": {
     "end_time": "2025-01-12T10:50:30.144154Z",
     "start_time": "2025-01-12T10:50:30.138087Z"
    },
    "collapsed": true,
    "jupyter": {
     "outputs_hidden": true
    }
   },
   "outputs": [
    {
     "data": {
      "text/plain": [
       "2"
      ]
     },
     "execution_count": 2,
     "metadata": {},
     "output_type": "execute_result"
    }
   ],
   "source": [
    "import numpy as np\n",
    "from numpy.random import randint\n",
    "\n",
    "my_list = [1, 2, 3]\n",
    "arr = np.array(my_list)\n",
    "\n",
    "my_mat = [\n",
    "    [1, 2, 3],\n",
    "    [4, 5, 6],\n",
    "    [7, 8, 9],\n",
    "]\n",
    "np.array(my_mat)\n",
    "\n",
    "np.arange(0, 11, 2)\n",
    "np.zeros(3)\n",
    "np.zeros((2, 3))\n",
    "np.ones((3, 4))\n",
    "\n",
    "np.linspace(0, 5, 10)\n",
    "\n",
    "np.eye(3)\n",
    "\n",
    "np.random.randn(5)\n",
    "np.random.randn(3, 4)\n",
    "np.random.randn(4, 4)\n",
    "np.random.randint(1, 100, 10)\n",
    "\n",
    "arr = np.arange(25)\n",
    "ranarr = np.random.randint(1, 100, 10)\n",
    "arr.reshape(5, 5)\n",
    "ranarr.max()\n",
    "ranarr.min()\n",
    "ranarr.argmax()\n",
    "ranarr.argmin()\n",
    "arr = arr.reshape(5, 5)\n",
    "arr.shape\n",
    "arr.dtype\n",
    "\n",
    "randint(2, 10)\n"
   ]
  },
  {
   "cell_type": "code",
   "execution_count": null,
   "id": "abf3ee44c7acaf65",
   "metadata": {
    "ExecuteTime": {
     "end_time": "2025-01-12T10:50:30.164934Z",
     "start_time": "2025-01-12T10:50:30.163292Z"
    }
   },
   "outputs": [],
   "source": []
  }
 ],
 "metadata": {
  "kernelspec": {
   "display_name": "Python 3 (ipykernel)",
   "language": "python",
   "name": "python3"
  },
  "language_info": {
   "codemirror_mode": {
    "name": "ipython",
    "version": 3
   },
   "file_extension": ".py",
   "mimetype": "text/x-python",
   "name": "python",
   "nbconvert_exporter": "python",
   "pygments_lexer": "ipython3",
   "version": "3.9.6"
  }
 },
 "nbformat": 4,
 "nbformat_minor": 5
}
