{
 "cells": [
  {
   "metadata": {
    "ExecuteTime": {
     "end_time": "2025-01-21T09:09:25.576530Z",
     "start_time": "2025-01-21T09:09:25.546090Z"
    }
   },
   "cell_type": "code",
   "source": "import numpy as np",
   "id": "24edf8a0c2d25982",
   "outputs": [],
   "execution_count": 1
  },
  {
   "metadata": {
    "ExecuteTime": {
     "end_time": "2025-01-21T09:09:29.398474Z",
     "start_time": "2025-01-21T09:09:29.209713Z"
    }
   },
   "cell_type": "code",
   "source": "import pandas as pd",
   "id": "aa2e16d0cca8b5b8",
   "outputs": [],
   "execution_count": 2
  },
  {
   "metadata": {
    "ExecuteTime": {
     "end_time": "2025-01-21T09:10:25.300976Z",
     "start_time": "2025-01-21T09:10:25.298891Z"
    }
   },
   "cell_type": "code",
   "source": [
    "labels = ['a', 'b', 'c']\n",
    "my_data = [10, 20, 30]\n",
    "arr = np.array(my_data)\n",
    "d = {'a': 10, 'b': 20, 'c': 30}"
   ],
   "id": "a4d9c968300a2751",
   "outputs": [],
   "execution_count": 3
  },
  {
   "metadata": {
    "ExecuteTime": {
     "end_time": "2025-01-21T09:11:39.415406Z",
     "start_time": "2025-01-21T09:11:39.412172Z"
    }
   },
   "cell_type": "code",
   "source": "pd.Series(data=my_data)",
   "id": "278c4f8e17d74737",
   "outputs": [
    {
     "data": {
      "text/plain": [
       "0    10\n",
       "1    20\n",
       "2    30\n",
       "dtype: int64"
      ]
     },
     "execution_count": 5,
     "metadata": {},
     "output_type": "execute_result"
    }
   ],
   "execution_count": 5
  },
  {
   "metadata": {
    "ExecuteTime": {
     "end_time": "2025-01-21T09:11:46.526069Z",
     "start_time": "2025-01-21T09:11:46.523210Z"
    }
   },
   "cell_type": "code",
   "source": "pd.Series(data=my_data, index=labels)",
   "id": "b3ecf062fd9e1a",
   "outputs": [
    {
     "data": {
      "text/plain": [
       "a    10\n",
       "b    20\n",
       "c    30\n",
       "dtype: int64"
      ]
     },
     "execution_count": 6,
     "metadata": {},
     "output_type": "execute_result"
    }
   ],
   "execution_count": 6
  },
  {
   "metadata": {
    "ExecuteTime": {
     "end_time": "2025-01-21T09:12:28.893057Z",
     "start_time": "2025-01-21T09:12:28.889569Z"
    }
   },
   "cell_type": "code",
   "source": "pd.Series(my_data, labels)",
   "id": "268736992038f4f8",
   "outputs": [
    {
     "data": {
      "text/plain": [
       "a    10\n",
       "b    20\n",
       "c    30\n",
       "dtype: int64"
      ]
     },
     "execution_count": 7,
     "metadata": {},
     "output_type": "execute_result"
    }
   ],
   "execution_count": 7
  },
  {
   "metadata": {
    "ExecuteTime": {
     "end_time": "2025-01-21T09:12:56.274344Z",
     "start_time": "2025-01-21T09:12:56.270858Z"
    }
   },
   "cell_type": "code",
   "source": "pd.Series(arr, labels)",
   "id": "24ae88dd378505a5",
   "outputs": [
    {
     "data": {
      "text/plain": [
       "a    10\n",
       "b    20\n",
       "c    30\n",
       "dtype: int64"
      ]
     },
     "execution_count": 9,
     "metadata": {},
     "output_type": "execute_result"
    }
   ],
   "execution_count": 9
  },
  {
   "metadata": {
    "ExecuteTime": {
     "end_time": "2025-01-21T09:13:08.037565Z",
     "start_time": "2025-01-21T09:13:08.034317Z"
    }
   },
   "cell_type": "code",
   "source": "pd.Series(d)",
   "id": "75ee37b68e5617b2",
   "outputs": [
    {
     "data": {
      "text/plain": [
       "a    10\n",
       "b    20\n",
       "c    30\n",
       "dtype: int64"
      ]
     },
     "execution_count": 10,
     "metadata": {},
     "output_type": "execute_result"
    }
   ],
   "execution_count": 10
  },
  {
   "metadata": {
    "ExecuteTime": {
     "end_time": "2025-01-21T09:14:15.212159Z",
     "start_time": "2025-01-21T09:14:15.207642Z"
    }
   },
   "cell_type": "code",
   "source": "pd.Series(data=[sum, print, len])",
   "id": "f7f46b7e1f083863",
   "outputs": [
    {
     "data": {
      "text/plain": [
       "0      <built-in function sum>\n",
       "1    <built-in function print>\n",
       "2      <built-in function len>\n",
       "dtype: object"
      ]
     },
     "execution_count": 12,
     "metadata": {},
     "output_type": "execute_result"
    }
   ],
   "execution_count": 12
  },
  {
   "metadata": {
    "ExecuteTime": {
     "end_time": "2025-01-21T09:16:11.502524Z",
     "start_time": "2025-01-21T09:16:11.498569Z"
    }
   },
   "cell_type": "code",
   "source": [
    "ser1 = pd.Series([1, 2, 3, 4], [\"USA\", \"Germany\", \"USSR\", \"Japan\"])\n",
    "ser1"
   ],
   "id": "a7cc03598cf05425",
   "outputs": [
    {
     "data": {
      "text/plain": [
       "USA        1\n",
       "Germany    2\n",
       "USSR       3\n",
       "Japan      4\n",
       "dtype: int64"
      ]
     },
     "execution_count": 13,
     "metadata": {},
     "output_type": "execute_result"
    }
   ],
   "execution_count": 13
  },
  {
   "metadata": {
    "ExecuteTime": {
     "end_time": "2025-01-21T09:16:58.192227Z",
     "start_time": "2025-01-21T09:16:58.189020Z"
    }
   },
   "cell_type": "code",
   "source": [
    "ser2 = pd.Series([1, 2, 5, 4], [\"USA\", \"Germany\", \"Italy\", \"Japan\"])\n",
    "ser2"
   ],
   "id": "48716d30ef496531",
   "outputs": [
    {
     "data": {
      "text/plain": [
       "USA        1\n",
       "Germany    2\n",
       "Italy      5\n",
       "Japan      4\n",
       "dtype: int64"
      ]
     },
     "execution_count": 14,
     "metadata": {},
     "output_type": "execute_result"
    }
   ],
   "execution_count": 14
  },
  {
   "metadata": {
    "ExecuteTime": {
     "end_time": "2025-01-21T09:17:18.654034Z",
     "start_time": "2025-01-21T09:17:18.651337Z"
    }
   },
   "cell_type": "code",
   "source": "ser1[\"USA\"]",
   "id": "82c0a420b8b56e08",
   "outputs": [
    {
     "data": {
      "text/plain": [
       "np.int64(1)"
      ]
     },
     "execution_count": 15,
     "metadata": {},
     "output_type": "execute_result"
    }
   ],
   "execution_count": 15
  },
  {
   "metadata": {
    "ExecuteTime": {
     "end_time": "2025-01-21T09:18:20.491057Z",
     "start_time": "2025-01-21T09:18:20.488105Z"
    }
   },
   "cell_type": "code",
   "source": [
    "ser3 = pd.Series(data=labels)\n",
    "ser3[0]"
   ],
   "id": "a7c9723f1636d726",
   "outputs": [
    {
     "data": {
      "text/plain": [
       "'a'"
      ]
     },
     "execution_count": 18,
     "metadata": {},
     "output_type": "execute_result"
    }
   ],
   "execution_count": 18
  },
  {
   "metadata": {
    "ExecuteTime": {
     "end_time": "2025-01-21T09:18:43.213868Z",
     "start_time": "2025-01-21T09:18:43.210580Z"
    }
   },
   "cell_type": "code",
   "source": "ser1",
   "id": "d92266963db4ada6",
   "outputs": [
    {
     "data": {
      "text/plain": [
       "USA        1\n",
       "Germany    2\n",
       "USSR       3\n",
       "Japan      4\n",
       "dtype: int64"
      ]
     },
     "execution_count": 19,
     "metadata": {},
     "output_type": "execute_result"
    }
   ],
   "execution_count": 19
  },
  {
   "metadata": {
    "ExecuteTime": {
     "end_time": "2025-01-21T09:18:45.460253Z",
     "start_time": "2025-01-21T09:18:45.457401Z"
    }
   },
   "cell_type": "code",
   "source": "ser2",
   "id": "aa12530a01769b3a",
   "outputs": [
    {
     "data": {
      "text/plain": [
       "USA        1\n",
       "Germany    2\n",
       "Italy      5\n",
       "Japan      4\n",
       "dtype: int64"
      ]
     },
     "execution_count": 20,
     "metadata": {},
     "output_type": "execute_result"
    }
   ],
   "execution_count": 20
  },
  {
   "metadata": {
    "ExecuteTime": {
     "end_time": "2025-01-21T09:18:51.320991Z",
     "start_time": "2025-01-21T09:18:51.316231Z"
    }
   },
   "cell_type": "code",
   "source": "ser1 + ser2",
   "id": "f2b9482dfe88f6a",
   "outputs": [
    {
     "data": {
      "text/plain": [
       "Germany    4.0\n",
       "Italy      NaN\n",
       "Japan      8.0\n",
       "USA        2.0\n",
       "USSR       NaN\n",
       "dtype: float64"
      ]
     },
     "execution_count": 21,
     "metadata": {},
     "output_type": "execute_result"
    }
   ],
   "execution_count": 21
  },
  {
   "metadata": {},
   "cell_type": "code",
   "outputs": [],
   "execution_count": null,
   "source": "",
   "id": "f1b66be3b60a537c"
  }
 ],
 "metadata": {
  "kernelspec": {
   "name": "python3",
   "language": "python",
   "display_name": "Python 3 (ipykernel)"
  }
 },
 "nbformat": 5,
 "nbformat_minor": 9
}
